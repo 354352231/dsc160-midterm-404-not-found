{
 "cells": [
  {
   "cell_type": "code",
   "execution_count": 84,
   "metadata": {},
   "outputs": [],
   "source": [
    "from bs4 import BeautifulSoup\n",
    "import os\n",
    "import requests\n",
    "import pandas as pd\n",
    "import csv\n",
    "\n",
    "import cv2\n",
    "import numpy as np"
   ]
  },
  {
   "cell_type": "code",
   "execution_count": null,
   "metadata": {},
   "outputs": [],
   "source": [
    "### PARTS FOR SCRAPING DATA"
   ]
  },
  {
   "cell_type": "code",
   "execution_count": null,
   "metadata": {},
   "outputs": [],
   "source": [
    "## set up directories\n",
    "DATA_DIR = 'data/'\n",
    "\n",
    "## for Henri-matisse\n",
    "HENRI_ARTIST_URL = 'http://www.henri-matisse.net/paintingssection{section_num}.html'\n",
    "HENRI_PAINTING_URL = 'http://www.henri-matisse.net/{painting_source}'\n",
    "\n",
    "## for Pablo Picasso\n",
    "PABLO_URL = 'https://www.pablo-ruiz-picasso.net/{where_to_scrape}.php'\n",
    "PABLO_PAINTING_URL = 'https://www.pablo-ruiz-picasso.net/{painting_source}'\n",
    "\n",
    "## checking if our data directory is there or not\n",
    "if not os.path.exists(DATA_DIR):\n",
    "    os.makedirs(DATA_DIR)"
   ]
  },
  {
   "cell_type": "code",
   "execution_count": null,
   "metadata": {},
   "outputs": [],
   "source": [
    "NAME_YEAR_HENRI_DIC = {}\n",
    "NAME_YEAR_PABLO_DIC = {}"
   ]
  },
  {
   "cell_type": "code",
   "execution_count": null,
   "metadata": {},
   "outputs": [],
   "source": [
    "# getting all of the image urls\n",
    "def scrape_arts_henri(sec_num):\n",
    "    url_query = HENRI_ARTIST_URL.format(section_num=sec_num)\n",
    "    artist_page = requests.get(url_query)\n",
    "\n",
    "    # check for request error\n",
    "    try:\n",
    "        artist_page.raise_for_status()\n",
    "    except requests.exceptions.HTTPError as e:\n",
    "        print(\"Error trying to retrieve {}\".format(artist_page.url))\n",
    "        raise e\n",
    "\n",
    "        \n",
    "    soup = BeautifulSoup(artist_page.text, 'lxml')\n",
    "\n",
    "    painting_paths = []\n",
    "    ## filtering part, getting year between 1900-1942\n",
    "    for li in soup.find_all('div', {'class': 'thmbnlspaintingselectbis'}):\n",
    "        try:\n",
    "            name = li.find('p').getText().split('\\n')[0].strip()\n",
    "            year = li.find('p').getText().split('\\n')[-1].strip()\n",
    "        except:\n",
    "            year = li.getText().split('\\n')[-1].strip()\n",
    "        year_lst = year.split('-')\n",
    "        year = year_lst[-1]\n",
    "        if len(year) == 4:\n",
    "            try:\n",
    "                year = int(year)\n",
    "            except:\n",
    "                year = ''\n",
    "        else:\n",
    "            continue\n",
    "        if(1900<=year<=1942):\n",
    "            url_append = li.find('img').get('src')\n",
    "            dict_name = url_append.replace('/','-')\n",
    "            NAME_YEAR_HENRI_DIC[dict_name] = (name, year)\n",
    "            painting_paths.append(url_append)\n",
    "    return painting_paths"
   ]
  },
  {
   "cell_type": "code",
   "execution_count": null,
   "metadata": {},
   "outputs": [],
   "source": [
    "HENRI_ARTS = [scrape_arts_henri(sec_num) for sec_num in ['one', 'two', 'three']]\n",
    "HENRI_ARTS = sum(HENRI_ARTS, [])\n",
    "HENRI_ARTS"
   ]
  },
  {
   "cell_type": "code",
   "execution_count": null,
   "metadata": {
    "scrolled": true
   },
   "outputs": [],
   "source": []
  },
  {
   "cell_type": "code",
   "execution_count": null,
   "metadata": {},
   "outputs": [],
   "source": [
    "# getting all of the image urls\n",
    "def scrape_arts_pablo(here_to_scrape):\n",
    "    PABLO_WEB = PABLO_URL.format(where_to_scrape=here_to_scrape)\n",
    "    print(PABLO_WEB)\n",
    "    artist_page = requests.get(PABLO_WEB)\n",
    "    try:\n",
    "        artist_page.raise_for_status()\n",
    "    except requests.exceptions.HTTPError as e:\n",
    "        print(\"Error trying to retrieve {}\".format(artist_page.url))\n",
    "        raise e\n",
    "\n",
    "    soup = BeautifulSoup(artist_page.text, 'lxml')\n",
    "    \n",
    "    painting_paths = []\n",
    "    pics = soup.find('div', {'id': 'main'}).find_all('div', style=lambda value: 'width' in value)\n",
    "    \n",
    "    ## filtering part, getting year between 1900-1942\n",
    "    for pic in pics:\n",
    "        name = pic.find_all('a')[-1].text\n",
    "        year = pic.text.split(',')[-1].strip()\n",
    "        year_lst = year.split('-')\n",
    "        year = int(year_lst[-1])\n",
    "        if (1900<=year<=1942):\n",
    "            url_append = pic.find('img').get('src')\n",
    "            dict_name = url_append.replace('/','-')\n",
    "            NAME_YEAR_PABLO_DIC[dict_name] = (name, year)\n",
    "            painting_paths.append(url_append)\n",
    "    return painting_paths"
   ]
  },
  {
   "cell_type": "code",
   "execution_count": null,
   "metadata": {},
   "outputs": [],
   "source": [
    "PABLO_ARTS = scrape_arts_pablo('topviews')+scrape_arts_pablo('topshared')+scrape_arts_pablo('topexpensive')\n",
    "PABLO_ARTS "
   ]
  },
  {
   "cell_type": "code",
   "execution_count": null,
   "metadata": {},
   "outputs": [],
   "source": [
    "NAME_YEAR_PABLO_DIC"
   ]
  },
  {
   "cell_type": "code",
   "execution_count": null,
   "metadata": {},
   "outputs": [],
   "source": [
    "def download_and_save(artist_name):\n",
    "    if artist_name == 'henri-matisse':\n",
    "        painting_urls = HENRI_ARTS\n",
    "        PAINTING_URL = HENRI_PAINTING_URL\n",
    "    else:\n",
    "        painting_urls = PABLO_ARTS\n",
    "        PAINTING_URL = PABLO_PAINTING_URL\n",
    "    \n",
    "    IMAGE_DIR = os.path.join(os.getcwd(),DATA_DIR, artist_name)\n",
    "    if not os.path.exists(IMAGE_DIR):\n",
    "        os.makedirs(IMAGE_DIR)\n",
    "    display(IMAGE_DIR)\n",
    "    for url in painting_urls:\n",
    "        download_url = PAINTING_URL.format(painting_source=url)\n",
    "        outfile = os.path.join(IMAGE_DIR, url.replace('/','-'))\n",
    "        if not os.path.exists(outfile):\n",
    "            print(\"downloading: {}\".format(url))\n",
    "            r_painting_page = requests.get(download_url)\n",
    "            with open(outfile, 'wb') as f:\n",
    "                f.write(r_painting_page.content)\n",
    "        else:\n",
    "            pass"
   ]
  },
  {
   "cell_type": "code",
   "execution_count": null,
   "metadata": {},
   "outputs": [],
   "source": [
    "download_and_save('henri-matisse')"
   ]
  },
  {
   "cell_type": "code",
   "execution_count": null,
   "metadata": {},
   "outputs": [],
   "source": [
    "download_and_save('picasso')"
   ]
  },
  {
   "cell_type": "code",
   "execution_count": null,
   "metadata": {},
   "outputs": [],
   "source": []
  },
  {
   "cell_type": "code",
   "execution_count": null,
   "metadata": {},
   "outputs": [],
   "source": []
  },
  {
   "cell_type": "code",
   "execution_count": null,
   "metadata": {},
   "outputs": [],
   "source": [
    "### PARTS FOR CALCULATING RMS and Entropy of images:"
   ]
  },
  {
   "cell_type": "markdown",
   "metadata": {},
   "source": [
    "calculating RMS contrast -- https://forum.processing.org/one/topic/calculate-image-contrast-using-root-mean-square-rms.html#25080000001971367  https://github.com/jeffThompson/ProcessingTeachingSketches/blob/master/ImageProcessingAndOpenCV/MeasureImageBrightnessAndContrast/MeasureImageBrightnessAndContrast.pde  "
   ]
  },
  {
   "cell_type": "code",
   "execution_count": 122,
   "metadata": {},
   "outputs": [],
   "source": [
    "def RMS_CONTRAST(imagefile):\n",
    "    print(imagefile)\n",
    "    img = cv2.imread(imagefile)\n",
    "    oneD_pixels = np.concatenate(img, axis = 0)\n",
    "    \n",
    "    brightness = 0\n",
    "    ## average brightness\n",
    "    for info in oneD_pixels:\n",
    "        brightness += (0.2126 * info[0]) + (0.7152 * info[1]) + (0.0722 * info[2])\n",
    "    average_brightness = brightness / len(oneD_pixels)## calculate average\n",
    "    average_brightness /= 255 ## normalizing to 0 and 1\n",
    "\n",
    "    rms = 0\n",
    "    for info in oneD_pixels:\n",
    "        brightness = (0.2126 * info[0]) + (0.7152 * info[1]) + (0.0722 * info[2])\n",
    "        brightness /=255 ## normalizing to 0 and 1\n",
    "        rms += pow((brightness - average_brightness), 2); ## calculate squared\n",
    "    rms /= len(oneD_pixels) ## calculate mean squared\n",
    "    rms = pow(rms, 0.5)\n",
    "    return rms"
   ]
  },
  {
   "cell_type": "code",
   "execution_count": 124,
   "metadata": {
    "collapsed": true
   },
   "outputs": [
    {
     "name": "stdout",
     "output_type": "stream",
     "text": [
      "/Users/michelle/Documents/dsc160-midterm-404-not-found/data/picasso/images-works-3437_s.jpg\n",
      "/Users/michelle/Documents/dsc160-midterm-404-not-found/data/picasso/images-works-56_s.jpg\n",
      "/Users/michelle/Documents/dsc160-midterm-404-not-found/data/picasso/images-works-1513_s.jpg\n",
      "/Users/michelle/Documents/dsc160-midterm-404-not-found/data/picasso/images-works-3570_s.jpg\n",
      "/Users/michelle/Documents/dsc160-midterm-404-not-found/data/picasso/images-works-1459_s.jpg\n",
      "/Users/michelle/Documents/dsc160-midterm-404-not-found/data/picasso/images-works-151_s.jpg\n",
      "/Users/michelle/Documents/dsc160-midterm-404-not-found/data/picasso/images-works-1885_s.jpg\n",
      "/Users/michelle/Documents/dsc160-midterm-404-not-found/data/picasso/images-works-3040_s.jpg\n",
      "/Users/michelle/Documents/dsc160-midterm-404-not-found/data/picasso/images-works-102_s.jpg\n",
      "/Users/michelle/Documents/dsc160-midterm-404-not-found/data/picasso/images-works-128_s.jpg\n",
      "/Users/michelle/Documents/dsc160-midterm-404-not-found/data/picasso/images-works-1958_s.jpg\n",
      "/Users/michelle/Documents/dsc160-midterm-404-not-found/data/picasso/images-works-3960_s.jpg\n",
      "/Users/michelle/Documents/dsc160-midterm-404-not-found/data/picasso/images-works-61_s.jpg\n",
      "/Users/michelle/Documents/dsc160-midterm-404-not-found/data/picasso/images-works-3545_s.jpg\n",
      "/Users/michelle/Documents/dsc160-midterm-404-not-found/data/picasso/images-works-158_s.jpg\n",
      "/Users/michelle/Documents/dsc160-midterm-404-not-found/data/picasso/images-works-1651_s.jpg\n",
      "/Users/michelle/Documents/dsc160-midterm-404-not-found/data/picasso/images-works-2025_s.jpg\n",
      "/Users/michelle/Documents/dsc160-midterm-404-not-found/data/picasso/images-works-3941_s.jpg\n",
      "/Users/michelle/Documents/dsc160-midterm-404-not-found/data/picasso/images-works-3461_s.jpg\n",
      "/Users/michelle/Documents/dsc160-midterm-404-not-found/data/picasso/images-works-3447_s.jpg\n",
      "/Users/michelle/Documents/dsc160-midterm-404-not-found/data/picasso/images-works-174_s.jpg\n",
      "/Users/michelle/Documents/dsc160-midterm-404-not-found/data/picasso/images-works-1834_s.jpg\n",
      "/Users/michelle/Documents/dsc160-midterm-404-not-found/data/picasso/images-works-137_s.jpg\n",
      "/Users/michelle/Documents/dsc160-midterm-404-not-found/data/picasso/images-works-3351_s.jpg\n",
      "/Users/michelle/Documents/dsc160-midterm-404-not-found/data/picasso/images-works-173_s.jpg\n",
      "/Users/michelle/Documents/dsc160-midterm-404-not-found/data/picasso/images-works-1663_s.jpg\n",
      "/Users/michelle/Documents/dsc160-midterm-404-not-found/data/picasso/images-works-1482_s.jpg\n",
      "/Users/michelle/Documents/dsc160-midterm-404-not-found/data/picasso/images-works-106_s.jpg\n",
      "/Users/michelle/Documents/dsc160-midterm-404-not-found/data/picasso/images-works-80_s.jpg\n",
      "/Users/michelle/Documents/dsc160-midterm-404-not-found/data/picasso/images-works-1906_s.jpg\n",
      "/Users/michelle/Documents/dsc160-midterm-404-not-found/data/picasso/images-works-127_s.jpg\n",
      "/Users/michelle/Documents/dsc160-midterm-404-not-found/data/picasso/images-works-1450_s.jpg\n",
      "/Users/michelle/Documents/dsc160-midterm-404-not-found/data/picasso/images-works-1941_s.jpg\n",
      "/Users/michelle/Documents/dsc160-midterm-404-not-found/data/picasso/images-works-3475_s.jpg\n",
      "/Users/michelle/Documents/dsc160-midterm-404-not-found/data/picasso/images-works-2142_s.jpg\n",
      "/Users/michelle/Documents/dsc160-midterm-404-not-found/data/picasso/images-works-1712_s.jpg\n",
      "/Users/michelle/Documents/dsc160-midterm-404-not-found/data/picasso/images-works-2553_s.jpg\n",
      "/Users/michelle/Documents/dsc160-midterm-404-not-found/data/picasso/images-works-3095_s.jpg\n",
      "/Users/michelle/Documents/dsc160-midterm-404-not-found/data/picasso/images-works-1696_s.jpg\n",
      "/Users/michelle/Documents/dsc160-midterm-404-not-found/data/picasso/images-works-1495_s.jpg\n",
      "/Users/michelle/Documents/dsc160-midterm-404-not-found/data/picasso/images-works-2647_s.jpg\n",
      "/Users/michelle/Documents/dsc160-midterm-404-not-found/data/picasso/images-works-1982_s.jpg\n",
      "/Users/michelle/Documents/dsc160-midterm-404-not-found/data/picasso/images-works-1518_s.jpg\n",
      "/Users/michelle/Documents/dsc160-midterm-404-not-found/data/picasso/images-works-1525_s.jpg\n",
      "/Users/michelle/Documents/dsc160-midterm-404-not-found/data/picasso/images-works-1609_s.jpg\n",
      "/Users/michelle/Documents/dsc160-midterm-404-not-found/data/picasso/images-works-2479_s.jpg\n",
      "/Users/michelle/Documents/dsc160-midterm-404-not-found/data/picasso/images-works-2263_s.jpg\n",
      "/Users/michelle/Documents/dsc160-midterm-404-not-found/data/picasso/images-works-1462_s.jpg\n",
      "/Users/michelle/Documents/dsc160-midterm-404-not-found/data/picasso/images-works-262_s.jpg\n",
      "/Users/michelle/Documents/dsc160-midterm-404-not-found/data/picasso/images-works-2216_s.jpg\n",
      "/Users/michelle/Documents/dsc160-midterm-404-not-found/data/picasso/images-works-1742_s.jpg\n",
      "/Users/michelle/Documents/dsc160-midterm-404-not-found/data/picasso/images-works-1529_s.jpg\n",
      "/Users/michelle/Documents/dsc160-midterm-404-not-found/data/picasso/images-works-2595_s.jpg\n",
      "/Users/michelle/Documents/dsc160-midterm-404-not-found/data/picasso/images-works-2633_s.jpg\n",
      "/Users/michelle/Documents/dsc160-midterm-404-not-found/data/picasso/images-works-2078_s.jpg\n",
      "/Users/michelle/Documents/dsc160-midterm-404-not-found/data/picasso/images-works-2442_s.jpg\n",
      "/Users/michelle/Documents/dsc160-midterm-404-not-found/data/picasso/images-works-1563_s.jpg\n",
      "/Users/michelle/Documents/dsc160-midterm-404-not-found/data/picasso/images-works-2281_s.jpg\n",
      "/Users/michelle/Documents/dsc160-midterm-404-not-found/data/picasso/images-works-1719_s.jpg\n",
      "/Users/michelle/Documents/dsc160-midterm-404-not-found/data/picasso/images-works-1731_s.jpg\n",
      "/Users/michelle/Documents/dsc160-midterm-404-not-found/data/picasso/images-works-3378_s.jpg\n",
      "/Users/michelle/Documents/dsc160-midterm-404-not-found/data/picasso/images-works-2583_s.jpg\n",
      "/Users/michelle/Documents/dsc160-midterm-404-not-found/data/picasso/images-works-1528_s.jpg\n",
      "/Users/michelle/Documents/dsc160-midterm-404-not-found/data/picasso/images-works-2298_s.jpg\n",
      "/Users/michelle/Documents/dsc160-midterm-404-not-found/data/picasso/images-works-1929_s.jpg\n",
      "/Users/michelle/Documents/dsc160-midterm-404-not-found/data/picasso/images-works-1263_s.jpg\n",
      "/Users/michelle/Documents/dsc160-midterm-404-not-found/data/picasso/images-works-2157_s.jpg\n",
      "/Users/michelle/Documents/dsc160-midterm-404-not-found/data/picasso/images-works-2587_s.jpg\n",
      "/Users/michelle/Documents/dsc160-midterm-404-not-found/data/picasso/images-works-2511_s.jpg\n",
      "/Users/michelle/Documents/dsc160-midterm-404-not-found/data/picasso/images-works-1991_s.jpg\n",
      "/Users/michelle/Documents/dsc160-midterm-404-not-found/data/picasso/images-works-2556_s.jpg\n",
      "/Users/michelle/Documents/dsc160-midterm-404-not-found/data/picasso/images-works-1773_s.jpg\n",
      "/Users/michelle/Documents/dsc160-midterm-404-not-found/data/picasso/images-works-2575_s.jpg\n",
      "/Users/michelle/Documents/dsc160-midterm-404-not-found/data/picasso/images-works-2283_s.jpg\n",
      "/Users/michelle/Documents/dsc160-midterm-404-not-found/data/picasso/images-works-2083_s.jpg\n",
      "/Users/michelle/Documents/dsc160-midterm-404-not-found/data/picasso/images-works-2276_s.jpg\n",
      "/Users/michelle/Documents/dsc160-midterm-404-not-found/data/picasso/images-works-2589_s.jpg\n",
      "/Users/michelle/Documents/dsc160-midterm-404-not-found/data/picasso/images-works-1736_s.jpg\n",
      "/Users/michelle/Documents/dsc160-midterm-404-not-found/data/picasso/images-works-2457_s.jpg\n",
      "/Users/michelle/Documents/dsc160-midterm-404-not-found/data/picasso/images-works-2450_s.jpg\n",
      "/Users/michelle/Documents/dsc160-midterm-404-not-found/data/picasso/images-works-2028_s.jpg\n",
      "/Users/michelle/Documents/dsc160-midterm-404-not-found/data/picasso/images-works-1471_s.jpg\n",
      "/Users/michelle/Documents/dsc160-midterm-404-not-found/data/picasso/images-works-1726_s.jpg\n",
      "/Users/michelle/Documents/dsc160-midterm-404-not-found/data/picasso/images-works-1613_s.jpg\n",
      "/Users/michelle/Documents/dsc160-midterm-404-not-found/data/picasso/images-works-1453_s.jpg\n",
      "/Users/michelle/Documents/dsc160-midterm-404-not-found/data/picasso/images-works-175_s.jpg\n",
      "/Users/michelle/Documents/dsc160-midterm-404-not-found/data/picasso/images-works-2154_s.jpg\n",
      "/Users/michelle/Documents/dsc160-midterm-404-not-found/data/picasso/images-works-1641_s.jpg\n",
      "/Users/michelle/Documents/dsc160-midterm-404-not-found/data/picasso/images-works-1550_s.jpg\n",
      "/Users/michelle/Documents/dsc160-midterm-404-not-found/data/picasso/images-works-125_s.jpg\n"
     ]
    },
    {
     "name": "stdout",
     "output_type": "stream",
     "text": [
      "/Users/michelle/Documents/dsc160-midterm-404-not-found/data/picasso/images-works-911_s.jpg\n",
      "/Users/michelle/Documents/dsc160-midterm-404-not-found/data/picasso/images-works-2190_s.jpg\n",
      "/Users/michelle/Documents/dsc160-midterm-404-not-found/data/picasso/images-works-1722_s.jpg\n",
      "/Users/michelle/Documents/dsc160-midterm-404-not-found/data/picasso/images-works-1526_s.jpg\n",
      "/Users/michelle/Documents/dsc160-midterm-404-not-found/data/picasso/images-works-3010_s.jpg\n",
      "/Users/michelle/Documents/dsc160-midterm-404-not-found/data/picasso/images-works-2702_s.jpg\n",
      "/Users/michelle/Documents/dsc160-midterm-404-not-found/data/picasso/images-works-1483_s.jpg\n",
      "/Users/michelle/Documents/dsc160-midterm-404-not-found/data/picasso/images-works-2449_s.jpg\n",
      "/Users/michelle/Documents/dsc160-midterm-404-not-found/data/picasso/images-works-2310_s.jpg\n",
      "/Users/michelle/Documents/dsc160-midterm-404-not-found/data/picasso/images-works-1706_s.jpg\n",
      "/Users/michelle/Documents/dsc160-midterm-404-not-found/data/picasso/images-works-2112_s.jpg\n",
      "/Users/michelle/Documents/dsc160-midterm-404-not-found/data/picasso/images-works-2890_s.jpg\n",
      "/Users/michelle/Documents/dsc160-midterm-404-not-found/data/picasso/images-works-33_s.jpg\n",
      "/Users/michelle/Documents/dsc160-midterm-404-not-found/data/picasso/images-works-1107_s.jpg\n",
      "/Users/michelle/Documents/dsc160-midterm-404-not-found/data/picasso/images-works-1670_s.jpg\n",
      "/Users/michelle/Documents/dsc160-midterm-404-not-found/data/picasso/images-works-2291_s.jpg\n",
      "/Users/michelle/Documents/dsc160-midterm-404-not-found/data/picasso/images-works-1718_s.jpg\n",
      "/Users/michelle/Documents/dsc160-midterm-404-not-found/data/picasso/images-works-1728_s.jpg\n",
      "/Users/michelle/Documents/dsc160-midterm-404-not-found/data/picasso/images-works-3102_s.jpg\n",
      "/Users/michelle/Documents/dsc160-midterm-404-not-found/data/picasso/images-works-1480_s.jpg\n",
      "/Users/michelle/Documents/dsc160-midterm-404-not-found/data/picasso/images-works-2011_s.jpg\n",
      "/Users/michelle/Documents/dsc160-midterm-404-not-found/data/picasso/images-works-1936_s.jpg\n",
      "/Users/michelle/Documents/dsc160-midterm-404-not-found/data/picasso/images-works-1792_s.jpg\n",
      "/Users/michelle/Documents/dsc160-midterm-404-not-found/data/picasso/images-works-1535_s.jpg\n",
      "/Users/michelle/Documents/dsc160-midterm-404-not-found/data/picasso/images-works-1598_s.jpg\n",
      "/Users/michelle/Documents/dsc160-midterm-404-not-found/data/picasso/images-works-4055_s.jpg\n",
      "/Users/michelle/Documents/dsc160-midterm-404-not-found/data/picasso/images-works-1621_s.jpg\n",
      "/Users/michelle/Documents/dsc160-midterm-404-not-found/data/picasso/images-works-2172_s.jpg\n",
      "/Users/michelle/Documents/dsc160-midterm-404-not-found/data/picasso/images-works-4053_s.jpg\n",
      "/Users/michelle/Documents/dsc160-midterm-404-not-found/data/picasso/images-works-2244_s.jpg\n",
      "/Users/michelle/Documents/dsc160-midterm-404-not-found/data/picasso/images-works-1760_s.jpg\n",
      "/Users/michelle/Documents/dsc160-midterm-404-not-found/data/picasso/images-works-2693_s.jpg\n",
      "/Users/michelle/Documents/dsc160-midterm-404-not-found/data/picasso/images-works-1702_s.jpg\n"
     ]
    }
   ],
   "source": [
    "image_folder = os.path.join(os.getcwd(), 'data/picasso')\n",
    "picasso_women = pd.read_csv('../dsc160-midterm-404-not-found/data/picasso_women.csv')\n",
    "picasso_women['RMS_contrast'] = picasso_women.apply(lambda x: RMS_CONTRAST(os.path.join(image_folder,x['Picturesource'])), axis = 1)"
   ]
  },
  {
   "cell_type": "code",
   "execution_count": 125,
   "metadata": {
    "collapsed": true
   },
   "outputs": [
    {
     "name": "stdout",
     "output_type": "stream",
     "text": [
      "/Users/michelle/Documents/dsc160-midterm-404-not-found/data/henri-matisse/paintings-thmbnls150-bb.jpg\n",
      "/Users/michelle/Documents/dsc160-midterm-404-not-found/data/henri-matisse/paintings-thmbnls150-ba.jpg\n",
      "/Users/michelle/Documents/dsc160-midterm-404-not-found/data/henri-matisse/paintings-thmbnls150-bd.jpg\n",
      "/Users/michelle/Documents/dsc160-midterm-404-not-found/data/henri-matisse/paintings-thmbnls150-bc.jpg\n",
      "/Users/michelle/Documents/dsc160-midterm-404-not-found/data/henri-matisse/paintings-thmbnls150-cs.jpg\n",
      "/Users/michelle/Documents/dsc160-midterm-404-not-found/data/henri-matisse/paintings-thmbnls150-dr.jpg\n",
      "/Users/michelle/Documents/dsc160-midterm-404-not-found/data/henri-matisse/paintings-thmbnls150-zd.jpg\n",
      "/Users/michelle/Documents/dsc160-midterm-404-not-found/data/henri-matisse/paintings-thmbnls150-hma308.jpg\n",
      "/Users/michelle/Documents/dsc160-midterm-404-not-found/data/henri-matisse/paintings-thmbnls150-by.jpg\n",
      "/Users/michelle/Documents/dsc160-midterm-404-not-found/data/henri-matisse/paintings-thmbnls150-gk.jpg\n",
      "/Users/michelle/Documents/dsc160-midterm-404-not-found/data/henri-matisse/paintings-thmbnls150-zc.jpg\n",
      "/Users/michelle/Documents/dsc160-midterm-404-not-found/data/henri-matisse/paintings-thmbnls150-zb.jpg\n",
      "/Users/michelle/Documents/dsc160-midterm-404-not-found/data/henri-matisse/paintings-orient_111_thmb.jpg\n",
      "/Users/michelle/Documents/dsc160-midterm-404-not-found/data/henri-matisse/paintings-thmbnls150-bu.jpg\n",
      "/Users/michelle/Documents/dsc160-midterm-404-not-found/data/henri-matisse/paintings-orient_123_thmb.jpg\n",
      "/Users/michelle/Documents/dsc160-midterm-404-not-found/data/henri-matisse/paintings-thmbnls150-cb.jpg\n",
      "/Users/michelle/Documents/dsc160-midterm-404-not-found/data/henri-matisse/paintings-orient_129_thmb.jpg\n",
      "/Users/michelle/Documents/dsc160-midterm-404-not-found/data/henri-matisse/paintings-thmbnls150-bv.jpg\n",
      "/Users/michelle/Documents/dsc160-midterm-404-not-found/data/henri-matisse/paintings-thmbnls150-ea.jpg\n",
      "/Users/michelle/Documents/dsc160-midterm-404-not-found/data/henri-matisse/paintings-thmbnls150-cc.jpg\n",
      "/Users/michelle/Documents/dsc160-midterm-404-not-found/data/henri-matisse/paintings-thmbnls150-cd.jpg\n",
      "/Users/michelle/Documents/dsc160-midterm-404-not-found/data/henri-matisse/paintings-thmbnls150-eq.jpg\n",
      "/Users/michelle/Documents/dsc160-midterm-404-not-found/data/henri-matisse/paintings-orient_187_thmb.jpg\n",
      "/Users/michelle/Documents/dsc160-midterm-404-not-found/data/henri-matisse/paintings-thmbnls150-ep.jpg\n",
      "/Users/michelle/Documents/dsc160-midterm-404-not-found/data/henri-matisse/paintings-orient_189_thmb.jpg\n",
      "/Users/michelle/Documents/dsc160-midterm-404-not-found/data/henri-matisse/paintings-thmbnls150-hma97.jpg\n",
      "/Users/michelle/Documents/dsc160-midterm-404-not-found/data/henri-matisse/paintings-orient_185_thmb.jpg\n",
      "/Users/michelle/Documents/dsc160-midterm-404-not-found/data/henri-matisse/paintings-thmbnls150-cj.jpg\n",
      "/Users/michelle/Documents/dsc160-midterm-404-not-found/data/henri-matisse/paintings-orient_186_thmb.jpg\n",
      "/Users/michelle/Documents/dsc160-midterm-404-not-found/data/henri-matisse/paintings-thmbnls150-eu.jpg\n",
      "/Users/michelle/Documents/dsc160-midterm-404-not-found/data/henri-matisse/paintings-orient_183_thmb.jpg\n",
      "/Users/michelle/Documents/dsc160-midterm-404-not-found/data/henri-matisse/paintings-thmbnls150-et.jpg\n",
      "/Users/michelle/Documents/dsc160-midterm-404-not-found/data/henri-matisse/paintings-thmbnls150-ex.jpg\n",
      "/Users/michelle/Documents/dsc160-midterm-404-not-found/data/henri-matisse/paintings-thmbnls150-ez.jpg\n",
      "/Users/michelle/Documents/dsc160-midterm-404-not-found/data/henri-matisse/paintings-orient_193_thmb.jpg\n",
      "/Users/michelle/Documents/dsc160-midterm-404-not-found/data/henri-matisse/paintings-orient_195_thmb.jpg\n",
      "/Users/michelle/Documents/dsc160-midterm-404-not-found/data/henri-matisse/paintings-thmbnls150-ca.jpg\n",
      "/Users/michelle/Documents/dsc160-midterm-404-not-found/data/henri-matisse/paintings-thmbnls150-fe.jpg\n",
      "/Users/michelle/Documents/dsc160-midterm-404-not-found/data/henri-matisse/paintings-orient_199_thmb.jpg\n",
      "/Users/michelle/Documents/dsc160-midterm-404-not-found/data/henri-matisse/paintings-thmbnls150-ff.jpg\n",
      "/Users/michelle/Documents/dsc160-midterm-404-not-found/data/henri-matisse/paintings-orient_84_thmb.jpg\n",
      "/Users/michelle/Documents/dsc160-midterm-404-not-found/data/henri-matisse/paintings-orient_197_thmb.jpg\n",
      "/Users/michelle/Documents/dsc160-midterm-404-not-found/data/henri-matisse/paintings-thmbnls150-fh.jpg\n",
      "/Users/michelle/Documents/dsc160-midterm-404-not-found/data/henri-matisse/paintings-thmbnls150-fi.jpg\n",
      "/Users/michelle/Documents/dsc160-midterm-404-not-found/data/henri-matisse/paintings-orient_211_thmb.jpg\n",
      "/Users/michelle/Documents/dsc160-midterm-404-not-found/data/henri-matisse/paintings-thmbnls150-ey.jpg\n",
      "/Users/michelle/Documents/dsc160-midterm-404-not-found/data/henri-matisse/paintings-thmbnls150-fk.jpg\n",
      "/Users/michelle/Documents/dsc160-midterm-404-not-found/data/henri-matisse/paintings-thmbnls150-fo.jpg\n",
      "/Users/michelle/Documents/dsc160-midterm-404-not-found/data/henri-matisse/paintings-thmbnls150-fj.jpg\n",
      "/Users/michelle/Documents/dsc160-midterm-404-not-found/data/henri-matisse/paintings-thmbnls150-fm.jpg\n",
      "/Users/michelle/Documents/dsc160-midterm-404-not-found/data/henri-matisse/paintings-thmbnls150-fp.jpg\n",
      "/Users/michelle/Documents/dsc160-midterm-404-not-found/data/henri-matisse/paintings-thmbnls150-zp.jpg\n",
      "/Users/michelle/Documents/dsc160-midterm-404-not-found/data/henri-matisse/paintings-thmbnls150-bz.jpg\n",
      "/Users/michelle/Documents/dsc160-midterm-404-not-found/data/henri-matisse/paintings-thmbnls150-fr.jpg\n",
      "/Users/michelle/Documents/dsc160-midterm-404-not-found/data/henri-matisse/paintings-thmbnls150-fs.jpg\n",
      "/Users/michelle/Documents/dsc160-midterm-404-not-found/data/henri-matisse/paintings-thmbnls150-dc.jpg\n",
      "/Users/michelle/Documents/dsc160-midterm-404-not-found/data/henri-matisse/paintings-thmbnls150-gb.jpg\n",
      "/Users/michelle/Documents/dsc160-midterm-404-not-found/data/henri-matisse/paintings-thmbnls150-gc.jpg\n",
      "/Users/michelle/Documents/dsc160-midterm-404-not-found/data/henri-matisse/paintings-thmbnls150-gd.jpg\n",
      "/Users/michelle/Documents/dsc160-midterm-404-not-found/data/henri-matisse/paintings-thmbnls150-gn.jpg\n",
      "/Users/michelle/Documents/dsc160-midterm-404-not-found/data/henri-matisse/paintings-thmbnls150-fz.jpg\n",
      "/Users/michelle/Documents/dsc160-midterm-404-not-found/data/henri-matisse/paintings-thmbnls150-dh.jpg\n"
     ]
    }
   ],
   "source": [
    "image_folder = os.path.join(os.getcwd(), 'data/henri-matisse')\n",
    "matisse_women = pd.read_csv('../dsc160-midterm-404-not-found/data/matisse_women.csv')\n",
    "matisse_women['RMS_contrast'] = matisse_women.apply(lambda x: RMS_CONTRAST(os.path.join(image_folder,x['Picturesource'])), axis = 1)"
   ]
  },
  {
   "cell_type": "markdown",
   "metadata": {},
   "source": [
    "calculate entropy"
   ]
  },
  {
   "cell_type": "code",
   "execution_count": null,
   "metadata": {},
   "outputs": [],
   "source": []
  }
 ],
 "metadata": {
  "kernelspec": {
   "display_name": "Python 3",
   "language": "python",
   "name": "python3"
  },
  "language_info": {
   "codemirror_mode": {
    "name": "ipython",
    "version": 3
   },
   "file_extension": ".py",
   "mimetype": "text/x-python",
   "name": "python",
   "nbconvert_exporter": "python",
   "pygments_lexer": "ipython3",
   "version": "3.7.7"
  }
 },
 "nbformat": 4,
 "nbformat_minor": 4
}
