{
 "cells": [
  {
   "cell_type": "code",
   "execution_count": null,
   "metadata": {},
   "outputs": [],
   "source": [
    "from bs4 import BeautifulSoup\n",
    "import os\n",
    "import requests\n",
    "import pandas as pd\n",
    "import csv"
   ]
  },
  {
   "cell_type": "code",
   "execution_count": null,
   "metadata": {},
   "outputs": [],
   "source": []
  },
  {
   "cell_type": "code",
   "execution_count": null,
   "metadata": {},
   "outputs": [],
   "source": [
    "## set up directories\n",
    "DATA_DIR = 'data/'\n",
    "\n",
    "## for Henri-matisse\n",
    "HENRI_ARTIST_URL = 'http://www.henri-matisse.net/paintingssection{section_num}.html'\n",
    "HENRI_PAINTING_URL = 'http://www.henri-matisse.net/{painting_source}'\n",
    "\n",
    "## for Pablo Picasso\n",
    "PABLO_URL = 'https://www.pablo-ruiz-picasso.net/{where_to_scrape}.php'\n",
    "PABLO_PAINTING_URL = 'https://www.pablo-ruiz-picasso.net/{painting_source}'\n",
    "\n",
    "## checking if our data directory is there or not\n",
    "if not os.path.exists(DATA_DIR):\n",
    "    os.makedirs(DATA_DIR)"
   ]
  },
  {
   "cell_type": "code",
   "execution_count": null,
   "metadata": {},
   "outputs": [],
   "source": [
    "NAME_YEAR_HENRI_DIC = {}\n",
    "NAME_YEAR_PABLO_DIC = {}"
   ]
  },
  {
   "cell_type": "code",
   "execution_count": null,
   "metadata": {},
   "outputs": [],
   "source": [
    "# getting all of the image urls\n",
    "def scrape_arts_henri(sec_num):\n",
    "    url_query = HENRI_ARTIST_URL.format(section_num=sec_num)\n",
    "    artist_page = requests.get(url_query)\n",
    "\n",
    "    # check for request error\n",
    "    try:\n",
    "        artist_page.raise_for_status()\n",
    "    except requests.exceptions.HTTPError as e:\n",
    "        print(\"Error trying to retrieve {}\".format(artist_page.url))\n",
    "        raise e\n",
    "\n",
    "        \n",
    "    soup = BeautifulSoup(artist_page.text, 'lxml')\n",
    "\n",
    "    painting_paths = []\n",
    "    ## filtering part, getting year between 1900-1942\n",
    "    for li in soup.find_all('div', {'class': 'thmbnlspaintingselectbis'}):\n",
    "        try:\n",
    "            name = li.find('p').getText().split('\\n')[0].strip()\n",
    "            year = li.find('p').getText().split('\\n')[-1].strip()\n",
    "        except:\n",
    "            year = li.getText().split('\\n')[-1].strip()\n",
    "        year_lst = year.split('-')\n",
    "        year = year_lst[-1]\n",
    "        if len(year) == 4:\n",
    "            try:\n",
    "                year = int(year)\n",
    "            except:\n",
    "                year = ''\n",
    "        else:\n",
    "            continue\n",
    "        if(1900<=year<=1942):\n",
    "            url_append = li.find('img').get('src')\n",
    "            dict_name = url_append.replace('/','-')\n",
    "            NAME_YEAR_HENRI_DIC[dict_name] = (name, year)\n",
    "            painting_paths.append(url_append)\n",
    "    return painting_paths"
   ]
  },
  {
   "cell_type": "code",
   "execution_count": null,
   "metadata": {},
   "outputs": [],
   "source": [
    "HENRI_ARTS = [scrape_arts_henri(sec_num) for sec_num in ['one', 'two', 'three']]\n",
    "HENRI_ARTS = sum(HENRI_ARTS, [])\n",
    "HENRI_ARTS"
   ]
  },
  {
   "cell_type": "code",
   "execution_count": null,
   "metadata": {
    "scrolled": true
   },
   "outputs": [],
   "source": []
  },
  {
   "cell_type": "code",
   "execution_count": null,
   "metadata": {},
   "outputs": [],
   "source": [
    "# getting all of the image urls\n",
    "def scrape_arts_pablo(here_to_scrape):\n",
    "    PABLO_WEB = PABLO_URL.format(where_to_scrape=here_to_scrape)\n",
    "    print(PABLO_WEB)\n",
    "    artist_page = requests.get(PABLO_WEB)\n",
    "    try:\n",
    "        artist_page.raise_for_status()\n",
    "    except requests.exceptions.HTTPError as e:\n",
    "        print(\"Error trying to retrieve {}\".format(artist_page.url))\n",
    "        raise e\n",
    "\n",
    "    soup = BeautifulSoup(artist_page.text, 'lxml')\n",
    "    \n",
    "    painting_paths = []\n",
    "    pics = soup.find('div', {'id': 'main'}).find_all('div', style=lambda value: 'width' in value)\n",
    "    \n",
    "    ## filtering part, getting year between 1900-1942\n",
    "    for pic in pics:\n",
    "        name = pic.find_all('a')[-1].text\n",
    "        year = pic.text.split(',')[-1].strip()\n",
    "        year_lst = year.split('-')\n",
    "        year = int(year_lst[-1])\n",
    "        if (1900<=year<=1942):\n",
    "            url_append = pic.find('img').get('src')\n",
    "            dict_name = url_append.replace('/','-')\n",
    "            NAME_YEAR_PABLO_DIC[dict_name] = (name, year)\n",
    "            painting_paths.append(url_append)\n",
    "    return painting_paths"
   ]
  },
  {
   "cell_type": "code",
   "execution_count": null,
   "metadata": {},
   "outputs": [],
   "source": [
    "PABLO_ARTS = scrape_arts_pablo('topviews')+scrape_arts_pablo('topshared')+scrape_arts_pablo('topexpensive')\n",
    "PABLO_ARTS "
   ]
  },
  {
   "cell_type": "code",
   "execution_count": null,
   "metadata": {},
   "outputs": [],
   "source": [
    "NAME_YEAR_PABLO_DIC"
   ]
  },
  {
   "cell_type": "code",
   "execution_count": null,
   "metadata": {},
   "outputs": [],
   "source": [
    "def download_and_save(artist_name):\n",
    "    if artist_name == 'henri-matisse':\n",
    "        painting_urls = HENRI_ARTS\n",
    "        PAINTING_URL = HENRI_PAINTING_URL\n",
    "    else:\n",
    "        painting_urls = PABLO_ARTS\n",
    "        PAINTING_URL = PABLO_PAINTING_URL\n",
    "    \n",
    "    IMAGE_DIR = os.path.join(os.getcwd(),DATA_DIR, artist_name)\n",
    "    if not os.path.exists(IMAGE_DIR):\n",
    "        os.makedirs(IMAGE_DIR)\n",
    "    display(IMAGE_DIR)\n",
    "    for url in painting_urls:\n",
    "        download_url = PAINTING_URL.format(painting_source=url)\n",
    "        outfile = os.path.join(IMAGE_DIR, url.replace('/','-'))\n",
    "        if not os.path.exists(outfile):\n",
    "            print(\"downloading: {}\".format(url))\n",
    "            r_painting_page = requests.get(download_url)\n",
    "            with open(outfile, 'wb') as f:\n",
    "                f.write(r_painting_page.content)\n",
    "        else:\n",
    "            pass"
   ]
  },
  {
   "cell_type": "code",
   "execution_count": null,
   "metadata": {},
   "outputs": [],
   "source": [
    "download_and_save('henri-matisse')"
   ]
  },
  {
   "cell_type": "code",
   "execution_count": null,
   "metadata": {},
   "outputs": [],
   "source": [
    "download_and_save('picasso')"
   ]
  },
  {
   "cell_type": "code",
   "execution_count": null,
   "metadata": {},
   "outputs": [],
   "source": []
  }
 ],
 "metadata": {
  "kernelspec": {
   "display_name": "Python 3",
   "language": "python",
   "name": "python3"
  },
  "language_info": {
   "codemirror_mode": {
    "name": "ipython",
    "version": 3
   },
   "file_extension": ".py",
   "mimetype": "text/x-python",
   "name": "python",
   "nbconvert_exporter": "python",
   "pygments_lexer": "ipython3",
   "version": "3.7.7"
  }
 },
 "nbformat": 4,
 "nbformat_minor": 4
}
